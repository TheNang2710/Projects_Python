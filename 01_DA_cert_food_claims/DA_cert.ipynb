{
 "cells": [
  {
   "cell_type": "code",
   "execution_count": 1,
   "id": "10c2d5e7-55c2-4a3d-938a-cec014916c00",
   "metadata": {},
   "outputs": [],
   "source": [
    "import pandas as pd\n",
    "import numpy as np\n",
    "import matplotlib.pyplot as plt\n",
    "import seaborn as sns"
   ]
  },
  {
   "cell_type": "code",
   "execution_count": 2,
   "id": "00be366d-d382-4b23-b0ac-6a5711cc3c8d",
   "metadata": {},
   "outputs": [],
   "source": [
    "df = pd.read_csv(\"food_claims_2212.csv\")"
   ]
  },
  {
   "cell_type": "code",
   "execution_count": 3,
   "id": "44b6b308-560b-4483-a01b-37eaabd1386e",
   "metadata": {},
   "outputs": [
    {
     "data": {
      "text/html": [
       "<div>\n",
       "<style scoped>\n",
       "    .dataframe tbody tr th:only-of-type {\n",
       "        vertical-align: middle;\n",
       "    }\n",
       "\n",
       "    .dataframe tbody tr th {\n",
       "        vertical-align: top;\n",
       "    }\n",
       "\n",
       "    .dataframe thead th {\n",
       "        text-align: right;\n",
       "    }\n",
       "</style>\n",
       "<table border=\"1\" class=\"dataframe\">\n",
       "  <thead>\n",
       "    <tr style=\"text-align: right;\">\n",
       "      <th></th>\n",
       "      <th>claim_id</th>\n",
       "      <th>time_to_close</th>\n",
       "      <th>claim_amount</th>\n",
       "      <th>amount_paid</th>\n",
       "      <th>location</th>\n",
       "      <th>individuals_on_claim</th>\n",
       "      <th>linked_cases</th>\n",
       "      <th>cause</th>\n",
       "    </tr>\n",
       "  </thead>\n",
       "  <tbody>\n",
       "    <tr>\n",
       "      <th>0</th>\n",
       "      <td>1</td>\n",
       "      <td>317</td>\n",
       "      <td>R$ 74474.55</td>\n",
       "      <td>51231.37</td>\n",
       "      <td>RECIFE</td>\n",
       "      <td>15</td>\n",
       "      <td>False</td>\n",
       "      <td>unknown</td>\n",
       "    </tr>\n",
       "    <tr>\n",
       "      <th>1</th>\n",
       "      <td>2</td>\n",
       "      <td>195</td>\n",
       "      <td>R$ 52137.83</td>\n",
       "      <td>42111.30</td>\n",
       "      <td>FORTALEZA</td>\n",
       "      <td>12</td>\n",
       "      <td>True</td>\n",
       "      <td>unknown</td>\n",
       "    </tr>\n",
       "    <tr>\n",
       "      <th>2</th>\n",
       "      <td>3</td>\n",
       "      <td>183</td>\n",
       "      <td>R$ 24447.2</td>\n",
       "      <td>23986.30</td>\n",
       "      <td>SAO LUIS</td>\n",
       "      <td>10</td>\n",
       "      <td>True</td>\n",
       "      <td>meat</td>\n",
       "    </tr>\n",
       "    <tr>\n",
       "      <th>3</th>\n",
       "      <td>4</td>\n",
       "      <td>186</td>\n",
       "      <td>R$ 29006.28</td>\n",
       "      <td>27942.72</td>\n",
       "      <td>FORTALEZA</td>\n",
       "      <td>11</td>\n",
       "      <td>False</td>\n",
       "      <td>meat</td>\n",
       "    </tr>\n",
       "    <tr>\n",
       "      <th>4</th>\n",
       "      <td>5</td>\n",
       "      <td>138</td>\n",
       "      <td>R$ 19520.6</td>\n",
       "      <td>16251.06</td>\n",
       "      <td>RECIFE</td>\n",
       "      <td>11</td>\n",
       "      <td>False</td>\n",
       "      <td>vegetable</td>\n",
       "    </tr>\n",
       "    <tr>\n",
       "      <th>...</th>\n",
       "      <td>...</td>\n",
       "      <td>...</td>\n",
       "      <td>...</td>\n",
       "      <td>...</td>\n",
       "      <td>...</td>\n",
       "      <td>...</td>\n",
       "      <td>...</td>\n",
       "      <td>...</td>\n",
       "    </tr>\n",
       "    <tr>\n",
       "      <th>1995</th>\n",
       "      <td>1996</td>\n",
       "      <td>176</td>\n",
       "      <td>R$ 28982.3</td>\n",
       "      <td>24265.02</td>\n",
       "      <td>RECIFE</td>\n",
       "      <td>10</td>\n",
       "      <td>False</td>\n",
       "      <td>meat</td>\n",
       "    </tr>\n",
       "    <tr>\n",
       "      <th>1996</th>\n",
       "      <td>1997</td>\n",
       "      <td>166</td>\n",
       "      <td>R$ 5188.44</td>\n",
       "      <td>4772.77</td>\n",
       "      <td>FORTALEZA</td>\n",
       "      <td>2</td>\n",
       "      <td>True</td>\n",
       "      <td>meat</td>\n",
       "    </tr>\n",
       "    <tr>\n",
       "      <th>1997</th>\n",
       "      <td>1998</td>\n",
       "      <td>179</td>\n",
       "      <td>R$ 11975.85</td>\n",
       "      <td>10087.81</td>\n",
       "      <td>RECIFE</td>\n",
       "      <td>4</td>\n",
       "      <td>True</td>\n",
       "      <td>meat</td>\n",
       "    </tr>\n",
       "    <tr>\n",
       "      <th>1998</th>\n",
       "      <td>1999</td>\n",
       "      <td>162</td>\n",
       "      <td>R$ 23516.28</td>\n",
       "      <td>23310.24</td>\n",
       "      <td>RECIFE</td>\n",
       "      <td>9</td>\n",
       "      <td>False</td>\n",
       "      <td>meat</td>\n",
       "    </tr>\n",
       "    <tr>\n",
       "      <th>1999</th>\n",
       "      <td>2000</td>\n",
       "      <td>150</td>\n",
       "      <td>R$ 8051.4</td>\n",
       "      <td>6417.92</td>\n",
       "      <td>RECIFE</td>\n",
       "      <td>4</td>\n",
       "      <td>False</td>\n",
       "      <td>vegetable</td>\n",
       "    </tr>\n",
       "  </tbody>\n",
       "</table>\n",
       "<p>2000 rows × 8 columns</p>\n",
       "</div>"
      ],
      "text/plain": [
       "      claim_id  time_to_close claim_amount  amount_paid   location  \\\n",
       "0            1            317  R$ 74474.55     51231.37     RECIFE   \n",
       "1            2            195  R$ 52137.83     42111.30  FORTALEZA   \n",
       "2            3            183   R$ 24447.2     23986.30   SAO LUIS   \n",
       "3            4            186  R$ 29006.28     27942.72  FORTALEZA   \n",
       "4            5            138   R$ 19520.6     16251.06     RECIFE   \n",
       "...        ...            ...          ...          ...        ...   \n",
       "1995      1996            176   R$ 28982.3     24265.02     RECIFE   \n",
       "1996      1997            166   R$ 5188.44      4772.77  FORTALEZA   \n",
       "1997      1998            179  R$ 11975.85     10087.81     RECIFE   \n",
       "1998      1999            162  R$ 23516.28     23310.24     RECIFE   \n",
       "1999      2000            150    R$ 8051.4      6417.92     RECIFE   \n",
       "\n",
       "      individuals_on_claim linked_cases      cause  \n",
       "0                       15        False    unknown  \n",
       "1                       12         True    unknown  \n",
       "2                       10         True       meat  \n",
       "3                       11        False       meat  \n",
       "4                       11        False  vegetable  \n",
       "...                    ...          ...        ...  \n",
       "1995                    10        False       meat  \n",
       "1996                     2         True       meat  \n",
       "1997                     4         True       meat  \n",
       "1998                     9        False       meat  \n",
       "1999                     4        False  vegetable  \n",
       "\n",
       "[2000 rows x 8 columns]"
      ]
     },
     "execution_count": 3,
     "metadata": {},
     "output_type": "execute_result"
    }
   ],
   "source": [
    "df"
   ]
  },
  {
   "cell_type": "code",
   "execution_count": 4,
   "id": "5854b49f-c061-4587-8365-869710adfdb5",
   "metadata": {},
   "outputs": [
    {
     "name": "stdout",
     "output_type": "stream",
     "text": [
      "<class 'pandas.core.frame.DataFrame'>\n",
      "RangeIndex: 2000 entries, 0 to 1999\n",
      "Data columns (total 8 columns):\n",
      " #   Column                Non-Null Count  Dtype  \n",
      "---  ------                --------------  -----  \n",
      " 0   claim_id              2000 non-null   int64  \n",
      " 1   time_to_close         2000 non-null   int64  \n",
      " 2   claim_amount          2000 non-null   object \n",
      " 3   amount_paid           1964 non-null   float64\n",
      " 4   location              2000 non-null   object \n",
      " 5   individuals_on_claim  2000 non-null   int64  \n",
      " 6   linked_cases          1974 non-null   object \n",
      " 7   cause                 2000 non-null   object \n",
      "dtypes: float64(1), int64(3), object(4)\n",
      "memory usage: 125.1+ KB\n"
     ]
    }
   ],
   "source": [
    "df.info()"
   ]
  },
  {
   "cell_type": "code",
   "execution_count": 5,
   "id": "0c2d6aef-b7c1-4f94-befd-fc2553968c86",
   "metadata": {},
   "outputs": [
    {
     "data": {
      "text/plain": [
       "0       R$ 74474.55\n",
       "1       R$ 52137.83\n",
       "2        R$ 24447.2\n",
       "3       R$ 29006.28\n",
       "4        R$ 19520.6\n",
       "           ...     \n",
       "1995     R$ 28982.3\n",
       "1996     R$ 5188.44\n",
       "1997    R$ 11975.85\n",
       "1998    R$ 23516.28\n",
       "1999      R$ 8051.4\n",
       "Name: claim_amount, Length: 2000, dtype: object"
      ]
     },
     "execution_count": 5,
     "metadata": {},
     "output_type": "execute_result"
    }
   ],
   "source": [
    "df1=df['claim_amount']\n",
    "df1.replace('R$', '',regex=True)\n",
    "df1"
   ]
  },
  {
   "cell_type": "code",
   "execution_count": 6,
   "id": "f8950498-14d4-41b8-9f49-01b4fef05975",
   "metadata": {},
   "outputs": [
    {
     "data": {
      "text/html": [
       "<div>\n",
       "<style scoped>\n",
       "    .dataframe tbody tr th:only-of-type {\n",
       "        vertical-align: middle;\n",
       "    }\n",
       "\n",
       "    .dataframe tbody tr th {\n",
       "        vertical-align: top;\n",
       "    }\n",
       "\n",
       "    .dataframe thead th {\n",
       "        text-align: right;\n",
       "    }\n",
       "</style>\n",
       "<table border=\"1\" class=\"dataframe\">\n",
       "  <thead>\n",
       "    <tr style=\"text-align: right;\">\n",
       "      <th></th>\n",
       "      <th>claim_id</th>\n",
       "      <th>time_to_close</th>\n",
       "      <th>claim_amount</th>\n",
       "      <th>amount_paid</th>\n",
       "      <th>location</th>\n",
       "      <th>individuals_on_claim</th>\n",
       "      <th>linked_cases</th>\n",
       "      <th>cause</th>\n",
       "    </tr>\n",
       "  </thead>\n",
       "  <tbody>\n",
       "    <tr>\n",
       "      <th>0</th>\n",
       "      <td>1</td>\n",
       "      <td>317</td>\n",
       "      <td>74474.55</td>\n",
       "      <td>51231.37</td>\n",
       "      <td>RECIFE</td>\n",
       "      <td>15</td>\n",
       "      <td>False</td>\n",
       "      <td>unknown</td>\n",
       "    </tr>\n",
       "    <tr>\n",
       "      <th>1</th>\n",
       "      <td>2</td>\n",
       "      <td>195</td>\n",
       "      <td>52137.83</td>\n",
       "      <td>42111.30</td>\n",
       "      <td>FORTALEZA</td>\n",
       "      <td>12</td>\n",
       "      <td>True</td>\n",
       "      <td>unknown</td>\n",
       "    </tr>\n",
       "    <tr>\n",
       "      <th>2</th>\n",
       "      <td>3</td>\n",
       "      <td>183</td>\n",
       "      <td>24447.2</td>\n",
       "      <td>23986.30</td>\n",
       "      <td>SAO LUIS</td>\n",
       "      <td>10</td>\n",
       "      <td>True</td>\n",
       "      <td>meat</td>\n",
       "    </tr>\n",
       "    <tr>\n",
       "      <th>3</th>\n",
       "      <td>4</td>\n",
       "      <td>186</td>\n",
       "      <td>29006.28</td>\n",
       "      <td>27942.72</td>\n",
       "      <td>FORTALEZA</td>\n",
       "      <td>11</td>\n",
       "      <td>False</td>\n",
       "      <td>meat</td>\n",
       "    </tr>\n",
       "    <tr>\n",
       "      <th>4</th>\n",
       "      <td>5</td>\n",
       "      <td>138</td>\n",
       "      <td>19520.6</td>\n",
       "      <td>16251.06</td>\n",
       "      <td>RECIFE</td>\n",
       "      <td>11</td>\n",
       "      <td>False</td>\n",
       "      <td>vegetable</td>\n",
       "    </tr>\n",
       "    <tr>\n",
       "      <th>...</th>\n",
       "      <td>...</td>\n",
       "      <td>...</td>\n",
       "      <td>...</td>\n",
       "      <td>...</td>\n",
       "      <td>...</td>\n",
       "      <td>...</td>\n",
       "      <td>...</td>\n",
       "      <td>...</td>\n",
       "    </tr>\n",
       "    <tr>\n",
       "      <th>1995</th>\n",
       "      <td>1996</td>\n",
       "      <td>176</td>\n",
       "      <td>28982.3</td>\n",
       "      <td>24265.02</td>\n",
       "      <td>RECIFE</td>\n",
       "      <td>10</td>\n",
       "      <td>False</td>\n",
       "      <td>meat</td>\n",
       "    </tr>\n",
       "    <tr>\n",
       "      <th>1996</th>\n",
       "      <td>1997</td>\n",
       "      <td>166</td>\n",
       "      <td>5188.44</td>\n",
       "      <td>4772.77</td>\n",
       "      <td>FORTALEZA</td>\n",
       "      <td>2</td>\n",
       "      <td>True</td>\n",
       "      <td>meat</td>\n",
       "    </tr>\n",
       "    <tr>\n",
       "      <th>1997</th>\n",
       "      <td>1998</td>\n",
       "      <td>179</td>\n",
       "      <td>11975.85</td>\n",
       "      <td>10087.81</td>\n",
       "      <td>RECIFE</td>\n",
       "      <td>4</td>\n",
       "      <td>True</td>\n",
       "      <td>meat</td>\n",
       "    </tr>\n",
       "    <tr>\n",
       "      <th>1998</th>\n",
       "      <td>1999</td>\n",
       "      <td>162</td>\n",
       "      <td>23516.28</td>\n",
       "      <td>23310.24</td>\n",
       "      <td>RECIFE</td>\n",
       "      <td>9</td>\n",
       "      <td>False</td>\n",
       "      <td>meat</td>\n",
       "    </tr>\n",
       "    <tr>\n",
       "      <th>1999</th>\n",
       "      <td>2000</td>\n",
       "      <td>150</td>\n",
       "      <td>8051.4</td>\n",
       "      <td>6417.92</td>\n",
       "      <td>RECIFE</td>\n",
       "      <td>4</td>\n",
       "      <td>False</td>\n",
       "      <td>vegetable</td>\n",
       "    </tr>\n",
       "  </tbody>\n",
       "</table>\n",
       "<p>2000 rows × 8 columns</p>\n",
       "</div>"
      ],
      "text/plain": [
       "      claim_id  time_to_close claim_amount  amount_paid   location  \\\n",
       "0            1            317     74474.55     51231.37     RECIFE   \n",
       "1            2            195     52137.83     42111.30  FORTALEZA   \n",
       "2            3            183      24447.2     23986.30   SAO LUIS   \n",
       "3            4            186     29006.28     27942.72  FORTALEZA   \n",
       "4            5            138      19520.6     16251.06     RECIFE   \n",
       "...        ...            ...          ...          ...        ...   \n",
       "1995      1996            176      28982.3     24265.02     RECIFE   \n",
       "1996      1997            166      5188.44      4772.77  FORTALEZA   \n",
       "1997      1998            179     11975.85     10087.81     RECIFE   \n",
       "1998      1999            162     23516.28     23310.24     RECIFE   \n",
       "1999      2000            150       8051.4      6417.92     RECIFE   \n",
       "\n",
       "      individuals_on_claim linked_cases      cause  \n",
       "0                       15        False    unknown  \n",
       "1                       12         True    unknown  \n",
       "2                       10         True       meat  \n",
       "3                       11        False       meat  \n",
       "4                       11        False  vegetable  \n",
       "...                    ...          ...        ...  \n",
       "1995                    10        False       meat  \n",
       "1996                     2         True       meat  \n",
       "1997                     4         True       meat  \n",
       "1998                     9        False       meat  \n",
       "1999                     4        False  vegetable  \n",
       "\n",
       "[2000 rows x 8 columns]"
      ]
     },
     "execution_count": 6,
     "metadata": {},
     "output_type": "execute_result"
    }
   ],
   "source": [
    "df['claim_amount'] =df['claim_amount'].apply(lambda x:x.replace('R$ ','').replace(',',''))\n",
    "df"
   ]
  },
  {
   "cell_type": "code",
   "execution_count": 7,
   "id": "983fbd8d-0f60-45f8-aa9a-1e9ea0832062",
   "metadata": {},
   "outputs": [
    {
     "data": {
      "text/plain": [
       "claim_id                2000\n",
       "time_to_close            256\n",
       "claim_amount            2000\n",
       "amount_paid             1963\n",
       "location                   4\n",
       "individuals_on_claim      15\n",
       "linked_cases               2\n",
       "cause                      5\n",
       "dtype: int64"
      ]
     },
     "execution_count": 7,
     "metadata": {},
     "output_type": "execute_result"
    }
   ],
   "source": [
    "df.nunique()"
   ]
  },
  {
   "cell_type": "code",
   "execution_count": 8,
   "id": "1aadc411-6834-4210-8d83-5261887dac15",
   "metadata": {},
   "outputs": [
    {
     "data": {
      "text/plain": [
       "array(['RECIFE', 'FORTALEZA', 'SAO LUIS', 'NATAL'], dtype=object)"
      ]
     },
     "execution_count": 8,
     "metadata": {},
     "output_type": "execute_result"
    }
   ],
   "source": [
    "df['location'].unique()"
   ]
  },
  {
   "cell_type": "code",
   "execution_count": 9,
   "id": "88619b8d-8713-449d-8fcf-faa1e7150088",
   "metadata": {},
   "outputs": [
    {
     "data": {
      "text/plain": [
       "array([False, True, nan], dtype=object)"
      ]
     },
     "execution_count": 9,
     "metadata": {},
     "output_type": "execute_result"
    }
   ],
   "source": [
    "df['linked_cases'].unique()"
   ]
  },
  {
   "cell_type": "code",
   "execution_count": 10,
   "id": "30003df3-5e49-46fd-9616-d17525df4616",
   "metadata": {},
   "outputs": [
    {
     "data": {
      "text/plain": [
       "array(['unknown', 'meat', 'vegetable', ' Meat', 'VEGETABLES'],\n",
       "      dtype=object)"
      ]
     },
     "execution_count": 10,
     "metadata": {},
     "output_type": "execute_result"
    }
   ],
   "source": [
    "df['cause'].unique()"
   ]
  },
  {
   "cell_type": "code",
   "execution_count": 11,
   "id": "179d5b36-f1eb-4056-ae0d-daae98ee785e",
   "metadata": {},
   "outputs": [
    {
     "data": {
      "text/plain": [
       "['amount_paid', 'linked_cases']"
      ]
     },
     "execution_count": 11,
     "metadata": {},
     "output_type": "execute_result"
    }
   ],
   "source": [
    "df.columns[df.isna().any()].tolist()"
   ]
  },
  {
   "cell_type": "code",
   "execution_count": 12,
   "id": "f2206269-8c14-4e6d-9274-6f80ba0fdcdc",
   "metadata": {},
   "outputs": [
    {
     "name": "stdout",
     "output_type": "stream",
     "text": [
      "Number of NaN values present: 36\n"
     ]
    }
   ],
   "source": [
    "# applying the method\n",
    "count_nan = df['amount_paid'].isnull().sum()\n",
    " \n",
    "# printing the number of values present\n",
    "# in the column\n",
    "print('Number of NaN values present: ' + str(count_nan))"
   ]
  },
  {
   "cell_type": "code",
   "execution_count": 13,
   "id": "251256d3-21c7-4070-b154-1aebe4401c7f",
   "metadata": {},
   "outputs": [
    {
     "name": "stdout",
     "output_type": "stream",
     "text": [
      "Number of NaN values present: 0\n"
     ]
    }
   ],
   "source": [
    "df['amount_paid'].fillna(df['amount_paid'].median(), inplace = True)\n",
    "# applying the method\n",
    "count_nan = df['amount_paid'].isnull().sum()\n",
    " \n",
    "# printing the number of values present\n",
    "# in the column\n",
    "print('Number of NaN values present: ' + str(count_nan))"
   ]
  },
  {
   "cell_type": "code",
   "execution_count": 14,
   "id": "6076ba3f-8f5f-49ed-adf9-00e71abd4233",
   "metadata": {},
   "outputs": [
    {
     "data": {
      "text/plain": [
       "['linked_cases']"
      ]
     },
     "execution_count": 14,
     "metadata": {},
     "output_type": "execute_result"
    }
   ],
   "source": [
    "df.columns[df.isna().any()].tolist()"
   ]
  },
  {
   "cell_type": "code",
   "execution_count": 15,
   "id": "e87618c8-fc5e-4023-98e4-67159c449d27",
   "metadata": {},
   "outputs": [
    {
     "data": {
      "text/plain": [
       "[]"
      ]
     },
     "execution_count": 15,
     "metadata": {},
     "output_type": "execute_result"
    }
   ],
   "source": [
    "df['linked_cases'].fillna(\"FALSE\", inplace = True)\n",
    "df.columns[df.isna().any()].tolist()"
   ]
  },
  {
   "cell_type": "code",
   "execution_count": 16,
   "id": "4211c1e3-f5d1-4822-b06c-ac89b97dc997",
   "metadata": {},
   "outputs": [
    {
     "data": {
      "text/plain": [
       "array(['unknown', 'meat', 'vegetable'], dtype=object)"
      ]
     },
     "execution_count": 16,
     "metadata": {},
     "output_type": "execute_result"
    }
   ],
   "source": [
    "df['cause'] = df['cause'].replace([' Meat'], 'meat')\n",
    "df['cause'] = df['cause'].replace(['VEGETABLES'], 'vegetable')\n",
    "df['cause'].str.lower()\n",
    "df['cause'].unique()"
   ]
  },
  {
   "cell_type": "code",
   "execution_count": 17,
   "id": "df0c6086-8238-4793-8cc4-b1145c6f03c8",
   "metadata": {},
   "outputs": [
    {
     "name": "stdout",
     "output_type": "stream",
     "text": [
      "<class 'pandas.core.frame.DataFrame'>\n",
      "RangeIndex: 2000 entries, 0 to 1999\n",
      "Data columns (total 8 columns):\n",
      " #   Column                Non-Null Count  Dtype  \n",
      "---  ------                --------------  -----  \n",
      " 0   claim_id              2000 non-null   int64  \n",
      " 1   time_to_close         2000 non-null   int64  \n",
      " 2   claim_amount          2000 non-null   object \n",
      " 3   amount_paid           2000 non-null   float64\n",
      " 4   location              2000 non-null   object \n",
      " 5   individuals_on_claim  2000 non-null   int64  \n",
      " 6   linked_cases          2000 non-null   object \n",
      " 7   cause                 2000 non-null   object \n",
      "dtypes: float64(1), int64(3), object(4)\n",
      "memory usage: 125.1+ KB\n"
     ]
    }
   ],
   "source": [
    "df.info()"
   ]
  },
  {
   "cell_type": "code",
   "execution_count": 18,
   "id": "0d9ae748-3920-4a15-aeba-1f8f08772d1b",
   "metadata": {},
   "outputs": [
    {
     "name": "stdout",
     "output_type": "stream",
     "text": [
      "<class 'pandas.core.frame.DataFrame'>\n",
      "RangeIndex: 2000 entries, 0 to 1999\n",
      "Data columns (total 8 columns):\n",
      " #   Column                Non-Null Count  Dtype  \n",
      "---  ------                --------------  -----  \n",
      " 0   claim_id              2000 non-null   int64  \n",
      " 1   time_to_close         2000 non-null   int64  \n",
      " 2   claim_amount          2000 non-null   float64\n",
      " 3   amount_paid           2000 non-null   float64\n",
      " 4   location              2000 non-null   object \n",
      " 5   individuals_on_claim  2000 non-null   int64  \n",
      " 6   linked_cases          2000 non-null   object \n",
      " 7   cause                 2000 non-null   object \n",
      "dtypes: float64(2), int64(3), object(3)\n",
      "memory usage: 125.1+ KB\n"
     ]
    }
   ],
   "source": [
    "df.claim_amount = df.claim_amount.astype(float)\n",
    "df.info()"
   ]
  },
  {
   "cell_type": "code",
   "execution_count": 19,
   "id": "a4e56d90-56c8-4552-893d-a3bfddfbeb4a",
   "metadata": {},
   "outputs": [
    {
     "data": {
      "text/plain": [
       "claim_id                0\n",
       "time_to_close           0\n",
       "claim_amount            0\n",
       "amount_paid             0\n",
       "location                0\n",
       "individuals_on_claim    0\n",
       "linked_cases            0\n",
       "cause                   0\n",
       "dtype: int64"
      ]
     },
     "execution_count": 19,
     "metadata": {},
     "output_type": "execute_result"
    }
   ],
   "source": [
    "df.isna().sum()"
   ]
  },
  {
   "cell_type": "markdown",
   "id": "bc86f504-db65-4b11-ba7c-acdfb2885878",
   "metadata": {},
   "source": [
    "#### The origin data has 2000 rows and 8 columns, in which:\n",
    "\n",
    "There are 36 missing values in \"amount_paid\", and 26 missing values in \"linked_cases\".\n",
    "Replace the missing values in \"amount_paid\" by its median.\n",
    "Replace the missing values in \"linked_cases\" to \"FALSE\". There are 2 unique values as expected.\n",
    "Convert all typo \" Meat\" to \"meat\" and \"VEGETABLES\" to \"vegetable\" in \"cause\" column. So there are only 3 unique values in \"cause\", which are \"unknown\", \"meat\", and \"vegetable\" as expected.\n",
    "Convert type of \"claim_amount\" to float for processing after removing \"R$ \".\n",
    "There are 4 unique values in \"location\" as expected.\n",
    "There are 15 unique values in \"individuals_on_claim\" as expected.\n",
    "There are 2000 unique values in \"claim_id\" as expected as they are all unique."
   ]
  },
  {
   "cell_type": "code",
   "execution_count": 20,
   "id": "0c6fb45f-a07e-4752-b3aa-f287c2fa73e5",
   "metadata": {},
   "outputs": [
    {
     "name": "stdout",
     "output_type": "stream",
     "text": [
      "Total Number of Individual on Claim Differ Across Location:\n",
      "location\n",
      "FORTALEZA    2508\n",
      "NATAL        2329\n",
      "RECIFE       7101\n",
      "SAO LUIS     4161\n",
      "Name: individuals_on_claim, dtype: int64\n"
     ]
    }
   ],
   "source": [
    "# Question 2 : How does the number of claim differ across location?\n",
    "print(\"Total Number of Individual on Claim Differ Across Location:\")\n",
    "print(df.groupby('location')['individuals_on_claim'].sum())"
   ]
  },
  {
   "cell_type": "code",
   "execution_count": 21,
   "id": "e59acee8-ae41-4ec8-827d-46ffd1b04eb2",
   "metadata": {},
   "outputs": [
    {
     "data": {
      "image/png": "[encoded data removed]",
      "text/plain": [
       "<Figure size 720x432 with 1 Axes>"
      ]
     },
     "metadata": {
      "needs_background": "light"
     },
     "output_type": "display_data"
    }
   ],
   "source": [
    "# Plot the number of claim differ across location\n",
    "plt.figure(figsize=(10,6))\n",
    "color = ['#5279A4','#E15759','#59A14F','#F28E2B']\n",
    "ax = sns.barplot(x = sorted(df[\"location\"].unique()),\n",
    "                 y = df.groupby(['location'])['individuals_on_claim'].sum(), palette=color)\n",
    "plt.xlabel(\"Location\")\n",
    "plt.ylabel(\"Individual on Claims\")\n",
    "plt.title('Total Number of Individual on Claims Differ Across Location', fontsize = 14)\n",
    "for p in ax.patches:\n",
    "  ax.annotate(format(p.get_height(), '.2f'), (p.get_x() + p.get_width() / 2., p.get_height()), ha = 'center', va = 'center', xytext = (0, 5), textcoords = 'offset points')\n",
    "plt.show()"
   ]
  },
  {
   "cell_type": "markdown",
   "id": "903c0fab-e465-4b45-b117-db26b654ecf3",
   "metadata": {},
   "source": [
    "### Which category of the variable location has the most observations?\n",
    "\n",
    "Four location that the teams proccess with claims are: Recife, Fortaleza, Sao Luis, and Natal. The most claims found in Recife which has 7101 claims.\n",
    "\n",
    "Explain whether the observations are balanced across categories of the variable location?\n",
    "\n",
    "The 2nd highest number of claims is in Sao Luis, the 3rd is in Fortaleza, and the least is in Natal. This would suggest that the team should focus on distributing their members to handle claims in place with most claims. Then Vivendo fast food company should consider why that there are lots of claims in Recife."
   ]
  },
  {
   "cell_type": "code",
   "execution_count": 22,
   "id": "88885106-72e5-4d56-8b52-4a263218cca9",
   "metadata": {},
   "outputs": [
    {
     "name": "stdout",
     "output_type": "stream",
     "text": [
      "Average time to close claims differ by location: \n",
      "location\n",
      "FORTALEZA    185.305466\n",
      "NATAL        185.926829\n",
      "RECIFE       184.607910\n",
      "SAO LUIS     187.170213\n",
      "Name: time_to_close, dtype: float64\n"
     ]
    }
   ],
   "source": [
    "# Question 3 : How does the average time to close claims differ by location?\n",
    "print(\"Average time to close claims differ by location: \")\n",
    "print(df.groupby('location')['time_to_close'].mean())"
   ]
  },
  {
   "cell_type": "code",
   "execution_count": 23,
   "id": "0737193e-3a70-40d9-8caa-a7d20966009d",
   "metadata": {},
   "outputs": [
    {
     "data": {
      "image/png": "[encoded data removed]",
      "text/plain": [
       "<Figure size 720x432 with 1 Axes>"
      ]
     },
     "metadata": {
      "needs_background": "light"
     },
     "output_type": "display_data"
    }
   ],
   "source": [
    "# Plot the the average time to close claims differ by location\n",
    "plt.figure(figsize=(10,6))\n",
    "color = ['#5279A4','#E15759','#59A14F','#F28E2B']\n",
    "bx = sns.barplot(x = sorted(df[\"location\"].unique()),\n",
    "                 y = df.groupby('location')['time_to_close'].mean(),palette=color)\n",
    "plt.xlabel(\"Location\")\n",
    "plt.ylabel(\"Time (day)\")\n",
    "plt.title('Average Time (days) to Close Claims Differ by Location', fontsize = 14)\n",
    "for p in bx.patches:\n",
    "  bx.annotate(format(p.get_height(), '.2f'), (p.get_x() + p.get_width() / 2., p.get_height()), ha = 'center', va = 'center', xytext = (0, 5), textcoords = 'offset points')\n",
    "plt.show()"
   ]
  },
  {
   "cell_type": "code",
   "execution_count": 24,
   "id": "276c494f-90a3-4022-8309-fd4c517dbc7d",
   "metadata": {},
   "outputs": [
    {
     "data": {
      "image/png": "[encoded data removed]",
      "text/plain": [
       "<Figure size 626.4x504 with 1 Axes>"
      ]
     },
     "metadata": {
      "needs_background": "light"
     },
     "output_type": "display_data"
    }
   ],
   "source": [
    "# Plot the time to close claims differ by location\n",
    "color = ['#5279A4','#E15759','#59A14F','#F28E2B']\n",
    "cx = sns.catplot( y='time_to_close', kind=\"box\", data = df, height=7, aspect=8.7/7)\n",
    "plt.xlabel(\"All locations\")\n",
    "plt.ylabel(\"Spread Time (days)\")\n",
    "plt.title('Spread time(days) to close all claims', fontsize = 14)\n",
    "plt.show()"
   ]
  },
  {
   "cell_type": "code",
   "execution_count": 25,
   "id": "d14b31e5-942c-4296-b6fe-fd5732525b84",
   "metadata": {},
   "outputs": [
    {
     "data": {
      "text/plain": [
       "185.568"
      ]
     },
     "execution_count": 25,
     "metadata": {},
     "output_type": "execute_result"
    }
   ],
   "source": [
    "df['time_to_close'].mean()"
   ]
  },
  {
   "cell_type": "code",
   "execution_count": 26,
   "id": "3ea62599-24b1-4b06-a6b3-1ca3a6d0404f",
   "metadata": {},
   "outputs": [
    {
     "data": {
      "text/plain": [
       "179.0"
      ]
     },
     "execution_count": 26,
     "metadata": {},
     "output_type": "execute_result"
    }
   ],
   "source": [
    "df['time_to_close'].median()"
   ]
  },
  {
   "cell_type": "code",
   "execution_count": 27,
   "id": "e47b2393-f58a-4d70-8b75-ebd330c8c029",
   "metadata": {},
   "outputs": [
    {
     "data": {
      "text/plain": [
       "158.0"
      ]
     },
     "execution_count": 27,
     "metadata": {},
     "output_type": "execute_result"
    }
   ],
   "source": [
    "df.time_to_close.quantile(0.25)"
   ]
  },
  {
   "cell_type": "code",
   "execution_count": 28,
   "id": "9541f2df-c6cd-4144-a5d5-114f3e52578a",
   "metadata": {},
   "outputs": [
    {
     "data": {
      "text/plain": [
       "204.0"
      ]
     },
     "execution_count": 28,
     "metadata": {},
     "output_type": "execute_result"
    }
   ],
   "source": [
    "df.time_to_close.quantile(0.75)"
   ]
  },
  {
   "cell_type": "code",
   "execution_count": 29,
   "id": "7b66365b-dba9-4415-9751-8cbe42ebb9da",
   "metadata": {},
   "outputs": [
    {
     "data": {
      "text/html": [
       "<div>\n",
       "<style scoped>\n",
       "    .dataframe tbody tr th:only-of-type {\n",
       "        vertical-align: middle;\n",
       "    }\n",
       "\n",
       "    .dataframe tbody tr th {\n",
       "        vertical-align: top;\n",
       "    }\n",
       "\n",
       "    .dataframe thead th {\n",
       "        text-align: right;\n",
       "    }\n",
       "</style>\n",
       "<table border=\"1\" class=\"dataframe\">\n",
       "  <thead>\n",
       "    <tr style=\"text-align: right;\">\n",
       "      <th></th>\n",
       "      <th>claim_id</th>\n",
       "      <th>time_to_close</th>\n",
       "      <th>claim_amount</th>\n",
       "      <th>amount_paid</th>\n",
       "      <th>location</th>\n",
       "      <th>individuals_on_claim</th>\n",
       "      <th>linked_cases</th>\n",
       "      <th>cause</th>\n",
       "    </tr>\n",
       "  </thead>\n",
       "  <tbody>\n",
       "    <tr>\n",
       "      <th>0</th>\n",
       "      <td>1</td>\n",
       "      <td>317</td>\n",
       "      <td>74474.55</td>\n",
       "      <td>51231.37</td>\n",
       "      <td>RECIFE</td>\n",
       "      <td>15</td>\n",
       "      <td>False</td>\n",
       "      <td>unknown</td>\n",
       "    </tr>\n",
       "    <tr>\n",
       "      <th>1</th>\n",
       "      <td>2</td>\n",
       "      <td>195</td>\n",
       "      <td>52137.83</td>\n",
       "      <td>42111.30</td>\n",
       "      <td>FORTALEZA</td>\n",
       "      <td>12</td>\n",
       "      <td>True</td>\n",
       "      <td>unknown</td>\n",
       "    </tr>\n",
       "    <tr>\n",
       "      <th>2</th>\n",
       "      <td>3</td>\n",
       "      <td>183</td>\n",
       "      <td>24447.20</td>\n",
       "      <td>23986.30</td>\n",
       "      <td>SAO LUIS</td>\n",
       "      <td>10</td>\n",
       "      <td>True</td>\n",
       "      <td>meat</td>\n",
       "    </tr>\n",
       "    <tr>\n",
       "      <th>3</th>\n",
       "      <td>4</td>\n",
       "      <td>186</td>\n",
       "      <td>29006.28</td>\n",
       "      <td>27942.72</td>\n",
       "      <td>FORTALEZA</td>\n",
       "      <td>11</td>\n",
       "      <td>False</td>\n",
       "      <td>meat</td>\n",
       "    </tr>\n",
       "    <tr>\n",
       "      <th>4</th>\n",
       "      <td>5</td>\n",
       "      <td>138</td>\n",
       "      <td>19520.60</td>\n",
       "      <td>16251.06</td>\n",
       "      <td>RECIFE</td>\n",
       "      <td>11</td>\n",
       "      <td>False</td>\n",
       "      <td>vegetable</td>\n",
       "    </tr>\n",
       "    <tr>\n",
       "      <th>...</th>\n",
       "      <td>...</td>\n",
       "      <td>...</td>\n",
       "      <td>...</td>\n",
       "      <td>...</td>\n",
       "      <td>...</td>\n",
       "      <td>...</td>\n",
       "      <td>...</td>\n",
       "      <td>...</td>\n",
       "    </tr>\n",
       "    <tr>\n",
       "      <th>1995</th>\n",
       "      <td>1996</td>\n",
       "      <td>176</td>\n",
       "      <td>28982.30</td>\n",
       "      <td>24265.02</td>\n",
       "      <td>RECIFE</td>\n",
       "      <td>10</td>\n",
       "      <td>False</td>\n",
       "      <td>meat</td>\n",
       "    </tr>\n",
       "    <tr>\n",
       "      <th>1996</th>\n",
       "      <td>1997</td>\n",
       "      <td>166</td>\n",
       "      <td>5188.44</td>\n",
       "      <td>4772.77</td>\n",
       "      <td>FORTALEZA</td>\n",
       "      <td>2</td>\n",
       "      <td>True</td>\n",
       "      <td>meat</td>\n",
       "    </tr>\n",
       "    <tr>\n",
       "      <th>1997</th>\n",
       "      <td>1998</td>\n",
       "      <td>179</td>\n",
       "      <td>11975.85</td>\n",
       "      <td>10087.81</td>\n",
       "      <td>RECIFE</td>\n",
       "      <td>4</td>\n",
       "      <td>True</td>\n",
       "      <td>meat</td>\n",
       "    </tr>\n",
       "    <tr>\n",
       "      <th>1998</th>\n",
       "      <td>1999</td>\n",
       "      <td>162</td>\n",
       "      <td>23516.28</td>\n",
       "      <td>23310.24</td>\n",
       "      <td>RECIFE</td>\n",
       "      <td>9</td>\n",
       "      <td>False</td>\n",
       "      <td>meat</td>\n",
       "    </tr>\n",
       "    <tr>\n",
       "      <th>1999</th>\n",
       "      <td>2000</td>\n",
       "      <td>150</td>\n",
       "      <td>8051.40</td>\n",
       "      <td>6417.92</td>\n",
       "      <td>RECIFE</td>\n",
       "      <td>4</td>\n",
       "      <td>False</td>\n",
       "      <td>vegetable</td>\n",
       "    </tr>\n",
       "  </tbody>\n",
       "</table>\n",
       "<p>1989 rows × 8 columns</p>\n",
       "</div>"
      ],
      "text/plain": [
       "      claim_id  time_to_close  claim_amount  amount_paid   location  \\\n",
       "0            1            317      74474.55     51231.37     RECIFE   \n",
       "1            2            195      52137.83     42111.30  FORTALEZA   \n",
       "2            3            183      24447.20     23986.30   SAO LUIS   \n",
       "3            4            186      29006.28     27942.72  FORTALEZA   \n",
       "4            5            138      19520.60     16251.06     RECIFE   \n",
       "...        ...            ...           ...          ...        ...   \n",
       "1995      1996            176      28982.30     24265.02     RECIFE   \n",
       "1996      1997            166       5188.44      4772.77  FORTALEZA   \n",
       "1997      1998            179      11975.85     10087.81     RECIFE   \n",
       "1998      1999            162      23516.28     23310.24     RECIFE   \n",
       "1999      2000            150       8051.40      6417.92     RECIFE   \n",
       "\n",
       "      individuals_on_claim linked_cases      cause  \n",
       "0                       15        False    unknown  \n",
       "1                       12         True    unknown  \n",
       "2                       10         True       meat  \n",
       "3                       11        False       meat  \n",
       "4                       11        False  vegetable  \n",
       "...                    ...          ...        ...  \n",
       "1995                    10        False       meat  \n",
       "1996                     2         True       meat  \n",
       "1997                     4         True       meat  \n",
       "1998                     9        False       meat  \n",
       "1999                     4        False  vegetable  \n",
       "\n",
       "[1989 rows x 8 columns]"
      ]
     },
     "execution_count": 29,
     "metadata": {},
     "output_type": "execute_result"
    }
   ],
   "source": [
    "df1 = df[df[\"time_to_close\"]<365]\n",
    "df1"
   ]
  },
  {
   "cell_type": "code",
   "execution_count": 30,
   "id": "a9455b50-4d4c-45a0-8e5b-ae181d63f2fd",
   "metadata": {},
   "outputs": [
    {
     "data": {
      "image/png": "[encoded data removed]",
      "text/plain": [
       "<Figure size 626.4x504 with 1 Axes>"
      ]
     },
     "metadata": {
      "needs_background": "light"
     },
     "output_type": "display_data"
    }
   ],
   "source": [
    "# Plot the time to close claims differ by location in subframe\n",
    "color = ['#5279A4','#E15759','#59A14F','#F28E2B']\n",
    "cx = sns.catplot( y=df1['time_to_close'], kind=\"box\", data = df, height=7, aspect=8.7/7)\n",
    "plt.xlabel(\"All locations\")\n",
    "plt.ylabel(\"Spread Time (day)\")\n",
    "plt.title('Spread time(days) to close all claims after remove 365 days or above close times', fontsize = 14)\n",
    "plt.show()"
   ]
  },
  {
   "cell_type": "code",
   "execution_count": 31,
   "id": "a3f51fbf-cfd5-4897-a812-1362368fd06b",
   "metadata": {},
   "outputs": [
    {
     "data": {
      "text/plain": [
       "178.0"
      ]
     },
     "execution_count": 31,
     "metadata": {},
     "output_type": "execute_result"
    }
   ],
   "source": [
    "df1['time_to_close'].median()"
   ]
  },
  {
   "cell_type": "code",
   "execution_count": 32,
   "id": "017e818a-1090-489b-9a30-8325aa1c73d2",
   "metadata": {},
   "outputs": [
    {
     "data": {
      "text/plain": [
       "158.0"
      ]
     },
     "execution_count": 32,
     "metadata": {},
     "output_type": "execute_result"
    }
   ],
   "source": [
    "df1.time_to_close.quantile(0.25)"
   ]
  },
  {
   "cell_type": "code",
   "execution_count": 33,
   "id": "8137e793-cc39-4693-b8ec-8ddf00c74826",
   "metadata": {},
   "outputs": [
    {
     "data": {
      "text/plain": [
       "203.0"
      ]
     },
     "execution_count": 33,
     "metadata": {},
     "output_type": "execute_result"
    }
   ],
   "source": [
    "df1.time_to_close.quantile(0.75)"
   ]
  },
  {
   "cell_type": "code",
   "execution_count": 34,
   "id": "48b6f948-7492-4ca2-a0f4-a954066e7713",
   "metadata": {},
   "outputs": [
    {
     "data": {
      "image/png": "[encoded data removed]",
      "text/plain": [
       "<Figure size 432x288 with 1 Axes>"
      ]
     },
     "metadata": {
      "needs_background": "light"
     },
     "output_type": "display_data"
    }
   ],
   "source": [
    "df.hist(column='time_to_close')\n",
    "plt.xlabel(\"Days\")\n",
    "plt.ylabel(\"Number of closed claims\")\n",
    "plt.title('Time distribution to close all claims')\n",
    "plt.show()"
   ]
  },
  {
   "cell_type": "markdown",
   "id": "92e80517-e11c-457f-b5a8-62b0bf8dd909",
   "metadata": {},
   "source": [
    "#### Describe the distribution of time to close for all claims?\n",
    "\n",
    "The average number of days to close the claim is 185.568 days, and the median of days for closing the a claim is 179 days. In most of the cases, it is required from 158 days to 204 days to close the claims.\n",
    "\n",
    "There are 11 cases which have closing day higher than 365. The legal teams should focus on why does it happen. However, those results seem to provide proper numbers of days that needed for close in all locations which are around 158 days to 204 days."
   ]
  },
  {
   "cell_type": "code",
   "execution_count": 35,
   "id": "0c742139-582b-43c1-b441-988e5bb93e6c",
   "metadata": {},
   "outputs": [
    {
     "data": {
      "text/plain": [
       "<seaborn.axisgrid.FacetGrid at 0x1fd87be86d0>"
      ]
     },
     "execution_count": 35,
     "metadata": {},
     "output_type": "execute_result"
    },
    {
     "data": {
      "image/png": "[encoded data removed]",
      "text/plain": [
       "<Figure size 864x216 with 4 Axes>"
      ]
     },
     "metadata": {
      "needs_background": "light"
     },
     "output_type": "display_data"
    }
   ],
   "source": [
    "g = sns.FacetGrid(df, col=\"location\")\n",
    "g.map_dataframe(sns.histplot, x=\"time_to_close\")"
   ]
  },
  {
   "cell_type": "markdown",
   "id": "74073b39-0323-490e-a19f-097cc4e41868",
   "metadata": {},
   "source": [
    "For each location, the distribution is slightly different but the most required days to close the claims are not much different."
   ]
  },
  {
   "cell_type": "code",
   "execution_count": 36,
   "id": "d595a087-c08a-49fc-a39c-fc49f705ebbd",
   "metadata": {},
   "outputs": [
    {
     "data": {
      "image/png": "[encoded data removed]",
      "text/plain": [
       "<Figure size 626.4x504 with 1 Axes>"
      ]
     },
     "metadata": {
      "needs_background": "light"
     },
     "output_type": "display_data"
    }
   ],
   "source": [
    "# Plot the time to close claims differ by location\n",
    "color = ['#5279A4','#E15759','#59A14F','#F28E2B']\n",
    "cx = sns.catplot(x=\"location\", y='time_to_close', kind=\"box\", data = df, order = sorted(df[\"location\"].unique()), palette=color, height=7, aspect=8.7/7)\n",
    "plt.xlabel(\"Location\")\n",
    "plt.ylabel(\"Spread Time (days)\")\n",
    "plt.title('Spread Time(days) to Close Claims Differ by Location', fontsize = 14)\n",
    "plt.show()"
   ]
  },
  {
   "cell_type": "code",
   "execution_count": 37,
   "id": "ef3d9c51-f21e-4875-a5df-82c6bcc9c117",
   "metadata": {},
   "outputs": [
    {
     "name": "stdout",
     "output_type": "stream",
     "text": [
      "location\n",
      "FORTALEZA    185.305466\n",
      "NATAL        185.926829\n",
      "RECIFE       184.607910\n",
      "SAO LUIS     187.170213\n",
      "Name: time_to_close, dtype: float64\n"
     ]
    }
   ],
   "source": [
    "print(df.groupby('location')['time_to_close'].mean())"
   ]
  },
  {
   "cell_type": "code",
   "execution_count": 38,
   "id": "ea0eb132-d51e-4a9b-8cae-bd884dd8125f",
   "metadata": {},
   "outputs": [
    {
     "name": "stdout",
     "output_type": "stream",
     "text": [
      "location\n",
      "FORTALEZA    180\n",
      "NATAL        179\n",
      "RECIFE       178\n",
      "SAO LUIS     179\n",
      "Name: time_to_close, dtype: int64\n"
     ]
    }
   ],
   "source": [
    "print(df.groupby('location')['time_to_close'].median())"
   ]
  },
  {
   "cell_type": "markdown",
   "id": "ee02c392-fe88-43d5-bf50-00d3ad44e703",
   "metadata": {},
   "source": [
    "### Describe the relationship between time to close and location\n",
    "\n",
    "From the plot, both mean and median days to close the claims are quite the same for each locations. Hence, there is no suspicious for any location to have abnormal days to handle the claims.\n",
    "\n",
    "However, Sao Luis have more outliers in both sides, which may need more caution from legal team. There either issues with complicated causes or with the Sao Luis claim management. In contract, Natal has the least outliers in both sides, which can be the case study to have closer look on Sao Luis.\n",
    "\n"
   ]
  }
 ],
 "metadata": {
  "kernelspec": {
   "display_name": "Python 3",
   "language": "python",
   "name": "python3"
  },
  "language_info": {
   "codemirror_mode": {
    "name": "ipython",
    "version": 3
   },
   "file_extension": ".py",
   "mimetype": "text/x-python",
   "name": "python",
   "nbconvert_exporter": "python",
   "pygments_lexer": "ipython3",
   "version": "3.8.8"
  }
 },
 "nbformat": 4,
 "nbformat_minor": 5
}
